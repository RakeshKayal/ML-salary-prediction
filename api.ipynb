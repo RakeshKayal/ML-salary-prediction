{
 "cells": [
  {
   "cell_type": "code",
   "execution_count": null,
   "id": "fa0c1d7f-8d84-4020-9b78-772680ca8357",
   "metadata": {},
   "outputs": [
    {
     "name": "stdout",
     "output_type": "stream",
     "text": [
      " * Serving Flask app '__main__'\n",
      " * Debug mode: on\n"
     ]
    },
    {
     "name": "stderr",
     "output_type": "stream",
     "text": [
      "WARNING: This is a development server. Do not use it in a production deployment. Use a production WSGI server instead.\n",
      " * Running on http://127.0.0.1:5000\n",
      "Press CTRL+C to quit\n"
     ]
    }
   ],
   "source": [
    "from flask import Flask, request, jsonify, render_template\n",
    "import joblib\n",
    "import numpy as np\n",
    "\n",
    "# Initialize Flask app\n",
    "app = Flask(__name__)\n",
    "\n",
    "# Load the trained model\n",
    "model = joblib.load(\"Savemodel.pkl\")\n",
    "\n",
    "@app.route(\"/\")\n",
    "def home():\n",
    "    return \"<h2>Linear Regression Model API</h2><p>Use /predict with POST method to make predictions.</p>\"\n",
    "\n",
    "@app.route(\"/predict\", methods=[\"POST\"])\n",
    "def predict():\n",
    "    try:\n",
    "        # Get JSON data from request\n",
    "        data = request.get_json()\n",
    "        print (data)\n",
    "        \n",
    "        experience = data[\"Experience\"]\n",
    "        age = data[\"Age\"]\n",
    "        \n",
    "\n",
    "        # Prepare features as numpy array\n",
    "        features = np.array([[experience, age]])\n",
    "\n",
    "        # Predict using model\n",
    "        prediction = model.predict(features)\n",
    "\n",
    "        return jsonify({\n",
    "            \"prediction\": int(prediction[0])\n",
    "        })\n",
    "\n",
    "    except Exception as e:\n",
    "        return jsonify({\"error\": str(e)})\n",
    "        print (e)\n",
    "\n",
    "if __name__ == \"__main__\":\n",
    "    app.run(debug=True, use_reloader=False)\n"
   ]
  },
  {
   "cell_type": "code",
   "execution_count": null,
   "id": "6e0357e0-1cae-4eac-bc1a-f60a4aef2eb6",
   "metadata": {},
   "outputs": [],
   "source": []
  }
 ],
 "metadata": {
  "kernelspec": {
   "display_name": "Python 3 (ipykernel)",
   "language": "python",
   "name": "python3"
  },
  "language_info": {
   "codemirror_mode": {
    "name": "ipython",
    "version": 3
   },
   "file_extension": ".py",
   "mimetype": "text/x-python",
   "name": "python",
   "nbconvert_exporter": "python",
   "pygments_lexer": "ipython3",
   "version": "3.13.7"
  }
 },
 "nbformat": 4,
 "nbformat_minor": 5
}
