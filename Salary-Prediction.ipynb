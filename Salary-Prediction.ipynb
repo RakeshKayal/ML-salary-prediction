{
 "cells": [
  {
   "cell_type": "code",
   "execution_count": 2,
   "id": "0318b8cf-3ff2-45aa-9092-1aa9ce4620a8",
   "metadata": {},
   "outputs": [
    {
     "name": "stdout",
     "output_type": "stream",
     "text": [
      "   Experience  Age  Education_Level  Salary\n",
      "0           7   27                1   45024\n",
      "1           4   49                2   40030\n",
      "2          13   49                2   79710\n",
      "   Experience  Age  Education_Level\n",
      "0           7   27                1\n",
      "1           4   49                2\n",
      "2          13   49                2\n",
      "Model Accuracy: 98.33%\n",
      "✅ Saved model.pkl\n"
     ]
    }
   ],
   "source": [
    "import pandas as pd\n",
    "\n",
    "\n",
    "from sklearn.linear_model import LinearRegression\n",
    "from sklearn.model_selection import train_test_split\n",
    "\n",
    "import joblib\n",
    "\n",
    "# Load dataset\n",
    "d = pd.read_csv('regression_dataset.csv')\n",
    "print(d.head(3))\n",
    "\n",
    "# Features (all columns except last) and Target (Salary column)\n",
    "x = d.iloc[:, :-1]\n",
    "y = d[\"Salary\"]\n",
    "print(x.head(3))\n",
    "\n",
    "# Split into training and testing\n",
    "x_train, x_test, y_train, y_test = train_test_split(x, y, test_size=0.25, random_state=42)\n",
    "\n",
    "# Train model\n",
    "lr = LinearRegression()\n",
    "lr.fit(x_train, y_train)\n",
    "\n",
    "# Evaluate\n",
    "score = lr.score(x_test, y_test) * 100\n",
    "print(f\"Model Accuracy: {score:.2f}%\")\n",
    "\n",
    "# Save model\n",
    "joblib.dump(lr, \"model.pkl\")\n",
    "print(\"✅ Saved model.pkl\")\n"
   ]
  },
  {
   "cell_type": "code",
   "execution_count": 3,
   "id": "40f9c3a4-1215-42e4-8f96-95815d47d178",
   "metadata": {},
   "outputs": [
    {
     "name": "stderr",
     "output_type": "stream",
     "text": [
      "c:\\Users\\Rakesh Kayal\\AppData\\Local\\Programs\\Python\\Python313\\Lib\\site-packages\\sklearn\\utils\\validation.py:2749: UserWarning: X does not have valid feature names, but LinearRegression was fitted with feature names\n",
      "  warnings.warn(\n"
     ]
    },
    {
     "data": {
      "text/plain": [
       "array([40968.78238264])"
      ]
     },
     "execution_count": 3,
     "metadata": {},
     "output_type": "execute_result"
    }
   ],
   "source": [
    "lr.predict([[5,21,3]])"
   ]
  },
  {
   "cell_type": "code",
   "execution_count": null,
   "id": "2ced791d-cefb-4129-9926-bbf29a940545",
   "metadata": {},
   "outputs": [],
   "source": []
  }
 ],
 "metadata": {
  "kernelspec": {
   "display_name": "Python 3",
   "language": "python",
   "name": "python3"
  },
  "language_info": {
   "codemirror_mode": {
    "name": "ipython",
    "version": 3
   },
   "file_extension": ".py",
   "mimetype": "text/x-python",
   "name": "python",
   "nbconvert_exporter": "python",
   "pygments_lexer": "ipython3",
   "version": "3.13.7"
  }
 },
 "nbformat": 4,
 "nbformat_minor": 5
}
